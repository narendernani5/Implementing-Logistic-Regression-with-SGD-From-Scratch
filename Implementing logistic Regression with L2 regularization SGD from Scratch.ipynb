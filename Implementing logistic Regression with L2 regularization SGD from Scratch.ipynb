{
 "cells": [
  {
   "cell_type": "markdown",
   "metadata": {},
   "source": [
    "## Implementing logistic Regression with L2 regularization  SGD  from Scratch"
   ]
  },
  {
   "cell_type": "code",
   "execution_count": 35,
   "metadata": {},
   "outputs": [],
   "source": [
    "%matplotlib inline\n",
    "import warnings\n",
    "warnings.filterwarnings(\"ignore\")\n",
    "\n",
    "import sqlite3\n",
    "import pandas as pd\n",
    "import numpy as np\n",
    "import string\n",
    "import matplotlib.pyplot as plt\n",
    "import seaborn as sns\n",
    "from sklearn.metrics import accuracy_score\n",
    "from sklearn.metrics import confusion_matrix\n",
    "from sklearn.metrics import precision_score\n",
    "from sklearn.metrics import f1_score\n",
    "from sklearn.metrics import recall_score"
   ]
  },
  {
   "cell_type": "code",
   "execution_count": 36,
   "metadata": {},
   "outputs": [
    {
     "data": {
      "text/plain": [
       "['malignant', 'benign']"
      ]
     },
     "execution_count": 36,
     "metadata": {},
     "output_type": "execute_result"
    }
   ],
   "source": [
    "from sklearn.datasets import load_breast_cancer\n",
    "data = load_breast_cancer()\n",
    "list(data.target_names)"
   ]
  },
  {
   "cell_type": "code",
   "execution_count": 37,
   "metadata": {},
   "outputs": [
    {
     "name": "stdout",
     "output_type": "stream",
     "text": [
      ".. _breast_cancer_dataset:\n",
      "\n",
      "Breast cancer wisconsin (diagnostic) dataset\n",
      "--------------------------------------------\n",
      "\n",
      "**Data Set Characteristics:**\n",
      "\n",
      "    :Number of Instances: 569\n",
      "\n",
      "    :Number of Attributes: 30 numeric, predictive attributes and the class\n",
      "\n",
      "    :Attribute Information:\n",
      "        - radius (mean of distances from center to points on the perimeter)\n",
      "        - texture (standard deviation of gray-scale values)\n",
      "        - perimeter\n",
      "        - area\n",
      "        - smoothness (local variation in radius lengths)\n",
      "        - compactness (perimeter^2 / area - 1.0)\n",
      "        - concavity (severity of concave portions of the contour)\n",
      "        - concave points (number of concave portions of the contour)\n",
      "        - symmetry \n",
      "        - fractal dimension (\"coastline approximation\" - 1)\n",
      "\n",
      "        The mean, standard error, and \"worst\" or largest (mean of the three\n",
      "        largest values) of these features were computed for each image,\n",
      "        resulting in 30 features.  For instance, field 3 is Mean Radius, field\n",
      "        13 is Radius SE, field 23 is Worst Radius.\n",
      "\n",
      "        - class:\n",
      "                - WDBC-Malignant\n",
      "                - WDBC-Benign\n",
      "\n",
      "    :Summary Statistics:\n",
      "\n",
      "    ===================================== ====== ======\n",
      "                                           Min    Max\n",
      "    ===================================== ====== ======\n",
      "    radius (mean):                        6.981  28.11\n",
      "    texture (mean):                       9.71   39.28\n",
      "    perimeter (mean):                     43.79  188.5\n",
      "    area (mean):                          143.5  2501.0\n",
      "    smoothness (mean):                    0.053  0.163\n",
      "    compactness (mean):                   0.019  0.345\n",
      "    concavity (mean):                     0.0    0.427\n",
      "    concave points (mean):                0.0    0.201\n",
      "    symmetry (mean):                      0.106  0.304\n",
      "    fractal dimension (mean):             0.05   0.097\n",
      "    radius (standard error):              0.112  2.873\n",
      "    texture (standard error):             0.36   4.885\n",
      "    perimeter (standard error):           0.757  21.98\n",
      "    area (standard error):                6.802  542.2\n",
      "    smoothness (standard error):          0.002  0.031\n",
      "    compactness (standard error):         0.002  0.135\n",
      "    concavity (standard error):           0.0    0.396\n",
      "    concave points (standard error):      0.0    0.053\n",
      "    symmetry (standard error):            0.008  0.079\n",
      "    fractal dimension (standard error):   0.001  0.03\n",
      "    radius (worst):                       7.93   36.04\n",
      "    texture (worst):                      12.02  49.54\n",
      "    perimeter (worst):                    50.41  251.2\n",
      "    area (worst):                         185.2  4254.0\n",
      "    smoothness (worst):                   0.071  0.223\n",
      "    compactness (worst):                  0.027  1.058\n",
      "    concavity (worst):                    0.0    1.252\n",
      "    concave points (worst):               0.0    0.291\n",
      "    symmetry (worst):                     0.156  0.664\n",
      "    fractal dimension (worst):            0.055  0.208\n",
      "    ===================================== ====== ======\n",
      "\n",
      "    :Missing Attribute Values: None\n",
      "\n",
      "    :Class Distribution: 212 - Malignant, 357 - Benign\n",
      "\n",
      "    :Creator:  Dr. William H. Wolberg, W. Nick Street, Olvi L. Mangasarian\n",
      "\n",
      "    :Donor: Nick Street\n",
      "\n",
      "    :Date: November, 1995\n",
      "\n",
      "This is a copy of UCI ML Breast Cancer Wisconsin (Diagnostic) datasets.\n",
      "https://goo.gl/U2Uwz2\n",
      "\n",
      "Features are computed from a digitized image of a fine needle\n",
      "aspirate (FNA) of a breast mass.  They describe\n",
      "characteristics of the cell nuclei present in the image.\n",
      "\n",
      "Separating plane described above was obtained using\n",
      "Multisurface Method-Tree (MSM-T) [K. P. Bennett, \"Decision Tree\n",
      "Construction Via Linear Programming.\" Proceedings of the 4th\n",
      "Midwest Artificial Intelligence and Cognitive Science Society,\n",
      "pp. 97-101, 1992], a classification method which uses linear\n",
      "programming to construct a decision tree.  Relevant features\n",
      "were selected using an exhaustive search in the space of 1-4\n",
      "features and 1-3 separating planes.\n",
      "\n",
      "The actual linear program used to obtain the separating plane\n",
      "in the 3-dimensional space is that described in:\n",
      "[K. P. Bennett and O. L. Mangasarian: \"Robust Linear\n",
      "Programming Discrimination of Two Linearly Inseparable Sets\",\n",
      "Optimization Methods and Software 1, 1992, 23-34].\n",
      "\n",
      "This database is also available through the UW CS ftp server:\n",
      "\n",
      "ftp ftp.cs.wisc.edu\n",
      "cd math-prog/cpo-dataset/machine-learn/WDBC/\n",
      "\n",
      ".. topic:: References\n",
      "\n",
      "   - W.N. Street, W.H. Wolberg and O.L. Mangasarian. Nuclear feature extraction \n",
      "     for breast tumor diagnosis. IS&T/SPIE 1993 International Symposium on \n",
      "     Electronic Imaging: Science and Technology, volume 1905, pages 861-870,\n",
      "     San Jose, CA, 1993.\n",
      "   - O.L. Mangasarian, W.N. Street and W.H. Wolberg. Breast cancer diagnosis and \n",
      "     prognosis via linear programming. Operations Research, 43(4), pages 570-577, \n",
      "     July-August 1995.\n",
      "   - W.H. Wolberg, W.N. Street, and O.L. Mangasarian. Machine learning techniques\n",
      "     to diagnose breast cancer from fine-needle aspirates. Cancer Letters 77 (1994) \n",
      "     163-171.\n"
     ]
    }
   ],
   "source": [
    "print(data.DESCR)"
   ]
  },
  {
   "cell_type": "code",
   "execution_count": 38,
   "metadata": {},
   "outputs": [
    {
     "name": "stdout",
     "output_type": "stream",
     "text": [
      "(569, 30)\n"
     ]
    }
   ],
   "source": [
    "print(data.data.shape)"
   ]
  },
  {
   "cell_type": "markdown",
   "metadata": {},
   "source": [
    "# 1. Splitting Data"
   ]
  },
  {
   "cell_type": "code",
   "execution_count": 39,
   "metadata": {},
   "outputs": [],
   "source": [
    "X = data.data\n",
    "Y = data.target"
   ]
  },
  {
   "cell_type": "code",
   "execution_count": 40,
   "metadata": {},
   "outputs": [],
   "source": [
    "from sklearn.model_selection import train_test_split\n",
    "x_tr, x_te, y_train, y_test = train_test_split(X, Y, test_size = 0.3, random_state = 3)"
   ]
  },
  {
   "cell_type": "code",
   "execution_count": 41,
   "metadata": {},
   "outputs": [
    {
     "data": {
      "text/plain": [
       "(398, 30)"
      ]
     },
     "execution_count": 41,
     "metadata": {},
     "output_type": "execute_result"
    }
   ],
   "source": [
    "#https://github.com/PushpendraSinghChauhan/SGD-Linear-Regression/blob/master/Implement%20Stochastic%20Gradient%20Descent%20on%20Linear%20Regression%20.ipynb\n",
    "# Standardizing the data\n",
    "from sklearn.preprocessing import StandardScaler\n",
    "sc = StandardScaler()\n",
    "x_train = sc.fit_transform(x_tr)\n",
    "x_train.shape"
   ]
  },
  {
   "cell_type": "code",
   "execution_count": 42,
   "metadata": {},
   "outputs": [
    {
     "data": {
      "text/plain": [
       "(171, 30)"
      ]
     },
     "execution_count": 42,
     "metadata": {},
     "output_type": "execute_result"
    }
   ],
   "source": [
    "x_test = sc.transform(x_te)\n",
    "x_test.shape"
   ]
  },
  {
   "cell_type": "markdown",
   "metadata": {},
   "source": [
    "## 2. Implementing SGD on Logistic REGRESSION"
   ]
  },
  {
   "cell_type": "code",
   "execution_count": 43,
   "metadata": {},
   "outputs": [],
   "source": [
    "def sigmoid(w,x,b):\n",
    "    return 1/(1+np.exp(-(np.dot(x,w)+b)))"
   ]
  },
  {
   "cell_type": "code",
   "execution_count": 44,
   "metadata": {},
   "outputs": [],
   "source": [
    "def grad1(w,x,y,λ,alpha,N,b):\n",
    "    #sigmoid = 1/(1+np.exp(-(np.dot(x,w1))))\n",
    "    f1 = y-sigmoid(w,x,b)\n",
    "    w = (1-alpha*λ/N)*w + alpha*np.dot(x.T, f1)\n",
    "    \"\"\"\" Logistic regression function : grad = (1-alpha*λ/N)*w + alpha*x*(y − σ(w.T*x+b))\n",
    "    ref: https://drive.google.com/file/u/2/d/1nQ08-XY4zvOLzRX-lGf8EYB5arb7-m1H/view?usp=sharing \"\"\" \n",
    "    return w"
   ]
  },
  {
   "cell_type": "code",
   "execution_count": 45,
   "metadata": {},
   "outputs": [],
   "source": [
    "def grad2(w,x,y,λ,alpha,N,b):\n",
    "    #sigmoid = 1/(1+np.exp(-(np.dot(x,w1))))\n",
    "    f1 = y-sigmoid(w,x,b)\n",
    "    w = (1-alpha*λ/N)*w + alpha*f1\n",
    "    \"\"\"\" Logistic regression function : b = (1-alpha*λ/N)*w + alpha*(y − σ(w.T*x+b))\n",
    "    ref: https://drive.google.com/file/u/2/d/1nQ08-XY4zvOLzRX-lGf8EYB5arb7-m1H/view?usp=sharing \"\"\" \n",
    "    return w"
   ]
  },
  {
   "cell_type": "code",
   "execution_count": 46,
   "metadata": {},
   "outputs": [],
   "source": [
    "# Initializing weights\n",
    "weights = np.random.normal(0,1,data.data.shape[1])\n",
    "weights=weights.reshape(-1,1)"
   ]
  },
  {
   "cell_type": "code",
   "execution_count": 47,
   "metadata": {},
   "outputs": [
    {
     "data": {
      "text/plain": [
       "array([[-0.01183664],\n",
       "       [-0.00718141],\n",
       "       [-0.01200581],\n",
       "       [-0.01137842],\n",
       "       [-0.00623979]])"
      ]
     },
     "execution_count": 47,
     "metadata": {},
     "output_type": "execute_result"
    }
   ],
   "source": [
    "temp_w = weights\n",
    "alpha = 0.0001\n",
    "λ = 28\n",
    "# Number of training examples\n",
    "m = x_train.shape[0]\n",
    "\n",
    "# Code to get batches for Stochastic Gradient Descent\n",
    "# batch size\n",
    "batch_size = 1\n",
    "from numpy import random\n",
    "random_ids = random.choice(m,m,replace=False)\n",
    "X_shuffled = x_train[random_ids,:]\n",
    "y_shuffled = y_train[random_ids]\n",
    "mini_batches = [(X_shuffled[i:i+batch_size,:], y_shuffled[i:i+batch_size]) for i in range(0, m, batch_size)]\n",
    "\n",
    "\n",
    "# Number of iterations for training the data\n",
    "iterations = 1000\n",
    "\n",
    "# SGD\n",
    "while(iterations >=0):\n",
    "    for batch in mini_batches:\n",
    "        X_batch = batch[0]\n",
    "        Y_batch = batch[1]\n",
    "        temp_w = grad1(weights,X_batch,Y_batch,λ,alpha,1,50)\n",
    "        weights = temp_w\n",
    "    iterations -= 1 \n",
    "    \n",
    "# Weights of manual sgd\n",
    "manual_sgd_weights = weights\n",
    "weights[0:5]"
   ]
  },
  {
   "cell_type": "code",
   "execution_count": 48,
   "metadata": {},
   "outputs": [],
   "source": [
    "# Initializing weights\n",
    "b = np.random.normal(0,1,data.data.shape[1])\n",
    "b=b.reshape(-1,1)"
   ]
  },
  {
   "cell_type": "code",
   "execution_count": 49,
   "metadata": {},
   "outputs": [
    {
     "data": {
      "text/plain": [
       "array([0.58005149])"
      ]
     },
     "execution_count": 49,
     "metadata": {},
     "output_type": "execute_result"
    }
   ],
   "source": [
    "temp_b = b\n",
    "# Number of training examples\n",
    "m = x_train.shape[0]\n",
    "alpha = 0.0001\n",
    "λ = 50\n",
    "N = alpha\n",
    "# Code to get batches for Stochastic Gradient Descent\n",
    "# batch size\n",
    "batch_size = 1\n",
    "from numpy import random\n",
    "random_ids = random.choice(m,m,replace=False)\n",
    "X_shuffled = x_train[random_ids,:]\n",
    "y_shuffled = y_train[random_ids]\n",
    "mini_batches = [(X_shuffled[i:i+batch_size,:], y_shuffled[i:i+batch_size]) for i in range(0, m, batch_size)]\n",
    "\n",
    "\n",
    "# Number of iterations for training the data\n",
    "iterations = 1000\n",
    "\n",
    "# SGD\n",
    "while(iterations >=0):\n",
    "    for batch in mini_batches:\n",
    "        X_batch = batch[0]\n",
    "        Y_batch = batch[1]\n",
    "        temp_b = grad2(weights,X_batch,Y_batch,λ,alpha,N,b)\n",
    "        weights_b = temp_b\n",
    "    iterations -= 1 \n",
    "    \n",
    "# Weights of manual sgd\n",
    "manual_sgd_weights = weights_b\n",
    "weights_b[0]"
   ]
  },
  {
   "cell_type": "code",
   "execution_count": 50,
   "metadata": {},
   "outputs": [
    {
     "name": "stdout",
     "output_type": "stream",
     "text": [
      "[[0.7298578 ]\n",
      " [0.71712914]\n",
      " [0.2740158 ]\n",
      " [0.24007334]\n",
      " [0.67593943]] \n",
      "\n",
      " [[0.67340163]\n",
      " [0.62961827]\n",
      " [0.68243173]\n",
      " [0.78434238]\n",
      " [0.47979953]]\n"
     ]
    }
   ],
   "source": [
    "manual_sgd_predictions_tr = np.dot(x_train, weights)+weights_b[0]\n",
    "manual_sgd_predictions_te = np.dot(x_test, weights)+weights_b[0]\n",
    "print(manual_sgd_predictions_tr[0:5],'\\n\\n' , manual_sgd_predictions_te[0:5])"
   ]
  },
  {
   "cell_type": "code",
   "execution_count": 92,
   "metadata": {},
   "outputs": [
    {
     "name": "stdout",
     "output_type": "stream",
     "text": [
      "0.9974874371859297\n",
      "1.0058479532163742\n"
     ]
    }
   ],
   "source": [
    "def pred(y_pred):\n",
    "    N = len(y_pred)\n",
    "    predict = []\n",
    "    for i in range(N):\n",
    "        if y_pred[i] >=0.58 : # sigmoid(w,x,b) returns 1/(1+exp(-(dot(x,w)+b)))\n",
    "            predict.append(1)\n",
    "        else:\n",
    "            predict.append(0)\n",
    "    return np.array(predict)\n",
    "print(1-np.sum(y_train - pred(manual_sgd_predictions_tr))/len(x_train))\n",
    "print(1-np.sum(y_test - pred(manual_sgd_predictions_te))/len(x_test))"
   ]
  },
  {
   "cell_type": "code",
   "execution_count": 93,
   "metadata": {},
   "outputs": [],
   "source": [
    "y_tr_pre = pred(manual_sgd_predictions_tr)\n",
    "y_te_pre = pred(manual_sgd_predictions_te)"
   ]
  },
  {
   "cell_type": "code",
   "execution_count": 94,
   "metadata": {},
   "outputs": [
    {
     "data": {
      "image/png": "[encoded data removed]",
      "text/plain": [
       "<Figure size 432x288 with 1 Axes>"
      ]
     },
     "metadata": {
      "needs_background": "light"
     },
     "output_type": "display_data"
    }
   ],
   "source": [
    "# Plotting the Scatter plot\n",
    "import matplotlib.pyplot as plt\n",
    "%matplotlib inline\n",
    "plt.scatter(y_test, manual_sgd_predictions_te)\n",
    "plt.xlabel(\"Actual class\")\n",
    "plt.ylabel(\"Predicted class\")\n",
    "plt.title(\"Actual class vs Predicted class\")\n",
    "plt.show()"
   ]
  },
  {
   "cell_type": "code",
   "execution_count": 95,
   "metadata": {},
   "outputs": [
    {
     "data": {
      "text/plain": [
       "<function matplotlib.pyplot.show(*args, **kw)>"
      ]
     },
     "execution_count": 95,
     "metadata": {},
     "output_type": "execute_result"
    },
    {
     "data": {
      "image/png": "[encoded data removed]",
      "text/plain": [
       "<Figure size 432x288 with 1 Axes>"
      ]
     },
     "metadata": {
      "needs_background": "light"
     },
     "output_type": "display_data"
    }
   ],
   "source": [
    "import seaborn as sns\n",
    "\n",
    "delta_y = y_test - manual_sgd_predictions_te.flatten()\n",
    "plt.xlabel(\"error\")\n",
    "sns.kdeplot(delta_y)\n",
    "plt.show"
   ]
  },
  {
   "cell_type": "code",
   "execution_count": 96,
   "metadata": {},
   "outputs": [
    {
     "data": {
      "text/plain": [
       "<function matplotlib.pyplot.show(*args, **kw)>"
      ]
     },
     "execution_count": 96,
     "metadata": {},
     "output_type": "execute_result"
    },
    {
     "data": {
      "image/png": "[encoded data removed]",
      "text/plain": [
       "<Figure size 432x288 with 1 Axes>"
      ]
     },
     "metadata": {
      "needs_background": "light"
     },
     "output_type": "display_data"
    }
   ],
   "source": [
    "sns.kdeplot(y_te_pre)\n",
    "plt.xlabel(\"manual_sgd_predictions\")\n",
    "plt.show"
   ]
  },
  {
   "cell_type": "code",
   "execution_count": 97,
   "metadata": {},
   "outputs": [],
   "source": [
    "#function to get heatmap confusion matrix\n",
    "def get_confusion_matrix(y_pred,y):\n",
    "    df_cm = pd.DataFrame(confusion_matrix(y, y_pred), range(2),range(2))\n",
    "    df_cm.columns = ['Predicted NO','Predicted YES']\n",
    "    df_cm = df_cm.rename({0: 'Actual NO', 1: 'Actual YES'})\n",
    "    sns.set(font_scale=1.4)#for label size\n",
    "    sns.heatmap(df_cm, annot=True,annot_kws={\"size\": 16}, fmt='g')"
   ]
  },
  {
   "cell_type": "code",
   "execution_count": 98,
   "metadata": {},
   "outputs": [
    {
     "data": {
      "image/png": "[encoded data removed]",
      "text/plain": [
       "<Figure size 432x288 with 2 Axes>"
      ]
     },
     "metadata": {},
     "output_type": "display_data"
    }
   ],
   "source": [
    "get_confusion_matrix(y_tr_pre,y_train)"
   ]
  },
  {
   "cell_type": "code",
   "execution_count": 99,
   "metadata": {},
   "outputs": [
    {
     "data": {
      "image/png": "[encoded data removed]",
      "text/plain": [
       "<Figure size 432x288 with 2 Axes>"
      ]
     },
     "metadata": {},
     "output_type": "display_data"
    }
   ],
   "source": [
    "get_confusion_matrix(y_te_pre,y_test)"
   ]
  },
  {
   "cell_type": "code",
   "execution_count": 84,
   "metadata": {},
   "outputs": [
    {
     "name": "stdout",
     "output_type": "stream",
     "text": [
      "Accuracy on test set: 95.322%\n",
      "Precision on test set: 0.990\n",
      "Recall on test set: 0.936\n",
      "F1-Score on test set: 0.962\n",
      "Confusion Matrix of test set:\n",
      " [ [TN  FP]\n",
      " [FN TP] ]\n",
      "\n",
      "Train confusion matrix\n",
      "[[143   7]\n",
      " [ 21 227]]\n",
      "Test confusion matrix\n",
      "[[ 61   1]\n",
      " [  7 102]]\n"
     ]
    }
   ],
   "source": [
    "from sklearn.metrics import accuracy_score\n",
    "from sklearn.metrics import confusion_matrix\n",
    "from sklearn.metrics import precision_score\n",
    "from sklearn.metrics import f1_score\n",
    "from sklearn.metrics import recall_score\n",
    "\n",
    "print(\"Accuracy on test set: %0.3f%%\"%(accuracy_score(y_test, y_te_pre)*100))\n",
    "print(\"Precision on test set: %0.3f\"%(precision_score(y_test, y_te_pre)))\n",
    "print(\"Recall on test set: %0.3f\"%(recall_score(y_test, y_te_pre)))\n",
    "print(\"F1-Score on test set: %0.3f\"%(f1_score(y_test, y_te_pre)))\n",
    "print(\"Confusion Matrix of test set:\\n [ [TN  FP]\\n [FN TP] ]\\n\")\n",
    "\n",
    "from sklearn.metrics import confusion_matrix\n",
    "print(\"Train confusion matrix\")\n",
    "print(confusion_matrix(y_train, y_tr_pre))\n",
    "print(\"Test confusion matrix\")\n",
    "print(confusion_matrix(y_test, y_te_pre))\n"
   ]
  },
  {
   "cell_type": "markdown",
   "metadata": {},
   "source": [
    "## 3. Implementing SKLEARN's SGD Regression"
   ]
  },
  {
   "cell_type": "code",
   "execution_count": 60,
   "metadata": {},
   "outputs": [],
   "source": [
    "\"https://scikit-learn.org/stable/modules/sgd.html\"\n",
    "from sklearn.linear_model import SGDClassifier\n",
    "sgd = SGDClassifier(loss = \"log\", penalty='l2', max_iter=1000, learning_rate='constant' , eta0=0.001  )\n",
    "sgd.fit(x_train, y_train)\n",
    "\n",
    "sklearn_sgd_predictions = sgd.predict_proba(x_test)\n",
    "y_tr_pre = sgd.predict(x_train)\n",
    "y_te_pre = sgd.predict(x_test)\n",
    "\n",
    "# Weights of Sklearn's SGD\n",
    "sklearn_sgd_weights = sgd.coef_ \n"
   ]
  },
  {
   "cell_type": "code",
   "execution_count": 61,
   "metadata": {},
   "outputs": [
    {
     "data": {
      "text/plain": [
       "SGDClassifier(alpha=0.0001, average=False, class_weight=None,\n",
       "              early_stopping=False, epsilon=0.1, eta0=0.001, fit_intercept=True,\n",
       "              l1_ratio=0.15, learning_rate='constant', loss='log',\n",
       "              max_iter=1000, n_iter_no_change=5, n_jobs=None, penalty='l2',\n",
       "              power_t=0.5, random_state=None, shuffle=True, tol=0.001,\n",
       "              validation_fraction=0.1, verbose=0, warm_start=False)"
      ]
     },
     "execution_count": 61,
     "metadata": {},
     "output_type": "execute_result"
    }
   ],
   "source": [
    "sgd.fit(x_train, y_train)"
   ]
  },
  {
   "cell_type": "code",
   "execution_count": 62,
   "metadata": {},
   "outputs": [
    {
     "data": {
      "image/png": "[encoded data removed]",
      "text/plain": [
       "<Figure size 432x288 with 1 Axes>"
      ]
     },
     "metadata": {
      "needs_background": "light"
     },
     "output_type": "display_data"
    }
   ],
   "source": [
    "# Plotting the Scatter plot\n",
    "import matplotlib.pyplot as plt\n",
    "%matplotlib inline\n",
    "\n",
    "plt.scatter(y_test, sklearn_sgd_predictions[:,1])\n",
    "plt.xlabel(\"Actual class\",size=10)\n",
    "plt.ylabel(\"Predicted class\",size=10)\n",
    "plt.title(\"Actual class vs Predicted class\",size=18)\n",
    "plt.show()"
   ]
  },
  {
   "cell_type": "code",
   "execution_count": 63,
   "metadata": {},
   "outputs": [
    {
     "data": {
      "text/plain": [
       "<matplotlib.axes._subplots.AxesSubplot at 0x1c039f2e1d0>"
      ]
     },
     "execution_count": 63,
     "metadata": {},
     "output_type": "execute_result"
    },
    {
     "data": {
      "image/png": "[encoded data removed]",
      "text/plain": [
       "<Figure size 432x288 with 1 Axes>"
      ]
     },
     "metadata": {
      "needs_background": "light"
     },
     "output_type": "display_data"
    }
   ],
   "source": [
    "y_delta = y_test - sklearn_sgd_predictions[:,1]\n",
    "plt.xlabel(\"error\")\n",
    "sns.kdeplot(y_delta)"
   ]
  },
  {
   "cell_type": "code",
   "execution_count": 64,
   "metadata": {
    "scrolled": true
   },
   "outputs": [
    {
     "data": {
      "text/plain": [
       "<matplotlib.axes._subplots.AxesSubplot at 0x1c039f34048>"
      ]
     },
     "execution_count": 64,
     "metadata": {},
     "output_type": "execute_result"
    },
    {
     "data": {
      "image/png": "[encoded data removed]",
      "text/plain": [
       "<Figure size 432x288 with 1 Axes>"
      ]
     },
     "metadata": {
      "needs_background": "light"
     },
     "output_type": "display_data"
    }
   ],
   "source": [
    "plt.xlabel(\"sklearn_sgd_predictions\")\n",
    "sns.kdeplot(y_te_pre)"
   ]
  },
  {
   "cell_type": "code",
   "execution_count": 65,
   "metadata": {},
   "outputs": [
    {
     "data": {
      "image/png": "[encoded data removed]",
      "text/plain": [
       "<Figure size 432x288 with 2 Axes>"
      ]
     },
     "metadata": {},
     "output_type": "display_data"
    }
   ],
   "source": [
    "get_confusion_matrix(y_tr_pre,y_train)"
   ]
  },
  {
   "cell_type": "code",
   "execution_count": 66,
   "metadata": {},
   "outputs": [
    {
     "data": {
      "image/png": "[encoded data removed]",
      "text/plain": [
       "<Figure size 432x288 with 2 Axes>"
      ]
     },
     "metadata": {},
     "output_type": "display_data"
    }
   ],
   "source": [
    "get_confusion_matrix(y_te_pre,y_test)"
   ]
  },
  {
   "cell_type": "code",
   "execution_count": null,
   "metadata": {},
   "outputs": [],
   "source": [
    "print(\"%0.3f%%\"%(accu"
   ]
  },
  {
   "cell_type": "code",
   "execution_count": 67,
   "metadata": {},
   "outputs": [
    {
     "name": "stdout",
     "output_type": "stream",
     "text": [
      "Accuracy on test set: 98.246%\n",
      "Precision on test set: 0.982\n",
      "Recall on test set: 0.991\n",
      "F1-Score on test set: 0.986\n",
      "Confusion Matrix of test set:\n",
      " [ [TN  FP]\n",
      " [FN TP] ]\n",
      "\n",
      "Train confusion matrix\n",
      "[[142   8]\n",
      " [  1 247]]\n",
      "Test confusion matrix\n",
      "[[ 60   2]\n",
      " [  1 108]]\n"
     ]
    }
   ],
   "source": [
    "from sklearn.metrics import accuracy_score\n",
    "from sklearn.metrics import confusion_matrix\n",
    "from sklearn.metrics import precision_score\n",
    "from sklearn.metrics import f1_score\n",
    "from sklearn.metrics import recall_score\n",
    "\n",
    "y_pred_new = y_te_pre\n",
    "\n",
    "print(\"Accuracy on test set: %0.3f%%\"%(accuracy_score(y_test, y_pred_new)*100))\n",
    "print(\"Precision on test set: %0.3f\"%(precision_score(y_test, y_pred_new)))\n",
    "print(\"Recall on test set: %0.3f\"%(recall_score(y_test, y_pred_new)))\n",
    "print(\"F1-Score on test set: %0.3f\"%(f1_score(y_test, y_pred_new)))\n",
    "print(\"Confusion Matrix of test set:\\n [ [TN  FP]\\n [FN TP] ]\\n\")\n",
    "\n",
    "from sklearn.metrics import confusion_matrix\n",
    "print(\"Train confusion matrix\")\n",
    "print(confusion_matrix(y_train, y_tr_pre))\n",
    "print(\"Test confusion matrix\")\n",
    "print(confusion_matrix(y_test, y_pred_new))\n"
   ]
  },
  {
   "cell_type": "code",
   "execution_count": 68,
   "metadata": {},
   "outputs": [
    {
     "name": "stdout",
     "output_type": "stream",
     "text": [
      "+-------+-----------------------+--------------------------+\n",
      "| S.NO. | Weights of Manual SGD | Weights of Sklearn's SGD |\n",
      "+-------+-----------------------+--------------------------+\n",
      "|   0   |     [-0.01183664]     |   -0.4389691593221069    |\n",
      "|   1   |     [-0.00718141]     |   -0.3667060770593157    |\n",
      "|   2   |     [-0.01200581]     |   -0.4313000185250534    |\n",
      "|   3   |     [-0.01137842]     |   -0.42895309976475104   |\n",
      "|   4   |     [-0.00623979]     |   -0.1509388123071394    |\n",
      "|   5   |     [-0.00961243]     |   -0.12336454035499148   |\n",
      "|   6   |     [-0.01127102]     |   -0.33846090122224987   |\n",
      "|   7   |     [-0.01282854]     |   -0.4294881658046086    |\n",
      "|   8   |     [-0.00509893]     |   -0.10973152034773474   |\n",
      "|   9   |    [3.57772851e-06]   |   0.20415169369992706    |\n",
      "|   10  |      [-0.0087556]     |   -0.3928426821142348    |\n",
      "|   11  |     [-0.00083546]     |   -0.06843919168560568   |\n",
      "|   12  |     [-0.00848647]     |    -0.333303095583102    |\n",
      "|   13  |     [-0.00827176]     |   -0.3378788826091305    |\n",
      "|   14  |      [0.00132619]     |  -0.004199312812442176   |\n",
      "|   15  |     [-0.00461217]     |   0.13177433977313976    |\n",
      "|   16  |     [-0.00354118]     |   0.08747611622187551    |\n",
      "|   17  |     [-0.00643376]     |   -0.07874796550962249   |\n",
      "|   18  |      [0.00011384]     |   0.08796428601505697    |\n",
      "|   19  |      [-0.0010742]     |   0.21065910076713398    |\n",
      "|   20  |     [-0.01277563]     |   -0.5180072710835086    |\n",
      "|   21  |     [-0.00856908]     |   -0.48955386432987674   |\n",
      "|   22  |     [-0.01281017]     |   -0.49065016614283136   |\n",
      "|   23  |     [-0.01193859]     |   -0.4788262479095476    |\n",
      "|   24  |     [-0.00735385]     |   -0.3491620853352077    |\n",
      "|   25  |     [-0.00975434]     |   -0.21076628759331134   |\n",
      "|   26  |     [-0.01057754]     |   -0.3393824477670175    |\n",
      "|   27  |     [-0.01317292]     |   -0.44727255192014354   |\n",
      "|   28  |     [-0.00691904]     |   -0.3422791364080057    |\n",
      "|   29  |     [-0.00554507]     |   -0.1058465391961143    |\n",
      "+-------+-----------------------+--------------------------+\n"
     ]
    }
   ],
   "source": [
    "# Creating the table using PrettyTable library\n",
    "\n",
    "from prettytable import PrettyTable\n",
    "\n",
    "# Initializing prettytable\n",
    "ptable = PrettyTable()\n",
    "\n",
    "numbering = [i for i in range(sklearn_sgd_weights.shape[1])]\n",
    "\n",
    "# Adding columns\n",
    "ptable.add_column(\"S.NO.\",numbering)\n",
    "ptable.add_column(\"Weights of Manual SGD\",weights)\n",
    "ptable.add_column(\"Weights of Sklearn's SGD\",sklearn_sgd_weights[0])\n",
    "\n",
    "# Printing the Table\n",
    "print(ptable)"
   ]
  }
 ],
 "metadata": {
  "kernelspec": {
   "display_name": "Python 3",
   "language": "python",
   "name": "python3"
  },
  "language_info": {
   "codemirror_mode": {
    "name": "ipython",
    "version": 3
   },
   "file_extension": ".py",
   "mimetype": "text/x-python",
   "name": "python",
   "nbconvert_exporter": "python",
   "pygments_lexer": "ipython3",
   "version": "3.6.5"
  }
 },
 "nbformat": 4,
 "nbformat_minor": 2
}
